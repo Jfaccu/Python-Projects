{
 "cells": [
  {
   "cell_type": "code",
   "execution_count": 1,
   "id": "edf070d6-0ce4-4057-bafe-da9990b32a45",
   "metadata": {},
   "outputs": [],
   "source": [
    "import numpy as np\n",
    "import pandas as pd"
   ]
  },
  {
   "cell_type": "code",
   "execution_count": 2,
   "id": "b89e1ee7-6f07-48a1-ba2b-bb41b4936d7d",
   "metadata": {},
   "outputs": [],
   "source": [
    " df = pd.read_csv(\"adult.data.csv\")"
   ]
  },
  {
   "cell_type": "code",
   "execution_count": null,
   "id": "c9ec99ba-b0e0-4de7-b057-07d645053141",
   "metadata": {},
   "outputs": [],
   "source": [
    "df"
   ]
  },
  {
   "cell_type": "code",
   "execution_count": 3,
   "id": "872abacc-fe91-4a84-b373-8f9cc00e6685",
   "metadata": {},
   "outputs": [
    {
     "name": "stdout",
     "output_type": "stream",
     "text": [
      "<class 'pandas.core.frame.DataFrame'>\n",
      "RangeIndex: 32561 entries, 0 to 32560\n",
      "Data columns (total 15 columns):\n",
      " #   Column          Non-Null Count  Dtype \n",
      "---  ------          --------------  ----- \n",
      " 0   age             32561 non-null  int64 \n",
      " 1   workclass       32561 non-null  object\n",
      " 2   fnlwgt          32561 non-null  int64 \n",
      " 3   education       32561 non-null  object\n",
      " 4   education-num   32561 non-null  int64 \n",
      " 5   marital-status  32561 non-null  object\n",
      " 6   occupation      32561 non-null  object\n",
      " 7   relationship    32561 non-null  object\n",
      " 8   race            32561 non-null  object\n",
      " 9   sex             32561 non-null  object\n",
      " 10  capital-gain    32561 non-null  int64 \n",
      " 11  capital-loss    32561 non-null  int64 \n",
      " 12  hours-per-week  32561 non-null  int64 \n",
      " 13  native-country  32561 non-null  object\n",
      " 14  salary          32561 non-null  object\n",
      "dtypes: int64(6), object(9)\n",
      "memory usage: 3.7+ MB\n"
     ]
    }
   ],
   "source": [
    "df.info()"
   ]
  },
  {
   "cell_type": "code",
   "execution_count": 4,
   "id": "4eab7b07-3a7f-4fec-9d68-bb3520ab4236",
   "metadata": {},
   "outputs": [
    {
     "data": {
      "text/plain": [
       "(32561, 15)"
      ]
     },
     "execution_count": 4,
     "metadata": {},
     "output_type": "execute_result"
    }
   ],
   "source": [
    "df.shape"
   ]
  },
  {
   "cell_type": "code",
   "execution_count": 5,
   "id": "1501661f-bd54-4743-a7ba-d689a50d72f5",
   "metadata": {},
   "outputs": [],
   "source": [
    "def calculate_demographic_data(print_data=True):\n",
    "\n",
    "# How many of each race are represented in this dataset? This should be a Pandas series with race names as the index labels.\n",
    "    race_count = df[\"race\"].value_counts()\n",
    "    print(race_count)"
   ]
  },
  {
   "cell_type": "code",
   "execution_count": 6,
   "id": "1c9e4838-b484-4681-9eeb-92724de1006f",
   "metadata": {},
   "outputs": [
    {
     "name": "stdout",
     "output_type": "stream",
     "text": [
      "39.4\n"
     ]
    }
   ],
   "source": [
    "# What is the average age of men?\n",
    "average_age_men = round(df.loc[df[\"sex\"] == \"Male\", \"age\"].mean(), 1)\n",
    "print(average_age_men)"
   ]
  },
  {
   "cell_type": "code",
   "execution_count": 10,
   "id": "aeb6ef34-9137-41d9-b30d-64ac9a901742",
   "metadata": {},
   "outputs": [
    {
     "name": "stdout",
     "output_type": "stream",
     "text": [
      "16.4\n"
     ]
    }
   ],
   "source": [
    "  # What is the percentage of people who have a Bachelor's degree?\n",
    "percentage_bachelors = round((df[\"education\"] == \"Bachelors\").mean() * 100, 1)\n",
    "print(percentage_bachelors)"
   ]
  },
  {
   "cell_type": "code",
   "execution_count": 13,
   "id": "08ee0267-6d90-4dc7-92fd-efdcfc4b535e",
   "metadata": {},
   "outputs": [
    {
     "name": "stdout",
     "output_type": "stream",
     "text": [
      "46.5\n"
     ]
    }
   ],
   "source": [
    "    # What percentage of people with advanced education (Bachelors, Masters, or Doctorate) make more than 50K?\n",
    "higher_education = df[df[\"education\"].isin([\"Bachelors\", \"Masters\", \"Doctorate\"])]\n",
    "higher_education_rich = round((higher_education[\"salary\"] == \">50K\").mean() * 100, 1)\n",
    "print(higher_education_rich)"
   ]
  },
  {
   "cell_type": "code",
   "execution_count": 15,
   "id": "f046ad50-f129-4b1e-8b50-b58e5a1b8862",
   "metadata": {},
   "outputs": [
    {
     "name": "stdout",
     "output_type": "stream",
     "text": [
      "17.4\n"
     ]
    }
   ],
   "source": [
    " # What percentage of people without advanced education make more than 50K?\n",
    "lower_education = df[~df[\"education\"].isin([\"Bachelors\", \"Masters\", \"Doctorate\"])]\n",
    "lower_education_rich = round((lower_education[\"salary\"] == \">50K\").mean() * 100, 1)\n",
    "print(lower_education_rich)"
   ]
  },
  {
   "cell_type": "code",
   "execution_count": 16,
   "id": "c32c73a8-6faa-431c-bae1-eaf12685fc13",
   "metadata": {},
   "outputs": [
    {
     "name": "stdout",
     "output_type": "stream",
     "text": [
      "1\n"
     ]
    }
   ],
   "source": [
    "   # What is the minimum number of hours a person works per week?\n",
    "min_work_hours = df[\"hours-per-week\"].min()\n",
    "print(min_work_hours)"
   ]
  },
  {
   "cell_type": "code",
   "execution_count": 17,
   "id": "64ad03de-93d4-4a34-b211-35efd58d9494",
   "metadata": {},
   "outputs": [
    {
     "name": "stdout",
     "output_type": "stream",
     "text": [
      "10.0\n"
     ]
    }
   ],
   "source": [
    "    # What percentage of the people who work the minimum number of hours per week have a salary of more than 50K?\n",
    "num_min_workers = df[df[\"hours-per-week\"] == min_work_hours]\n",
    "rich_percentage = round((num_min_workers[\"salary\"] == \">50K\").mean() * 100, 1)\n",
    "print(rich_percentage)"
   ]
  },
  {
   "cell_type": "code",
   "execution_count": 18,
   "id": "78aa6420-5e1c-42a0-a1a6-29a10873d21e",
   "metadata": {},
   "outputs": [
    {
     "name": "stdout",
     "output_type": "stream",
     "text": [
      "24.6\n"
     ]
    }
   ],
   "source": [
    " # What country has the highest percentage of people that earn >50K?\n",
    "highest_earning_country = (df.loc[df[\"salary\"] == \">50K\", \"native-country\"]\n",
    "                               .value_counts(normalize=True)\n",
    "                               .mul(100)\n",
    "                               .idxmax())\n",
    "highest_earning_country_percentage = round((df.loc[df[\"native-country\"] == highest_earning_country, \"salary\"] == \">50K\").mean() * 100, 1)\n",
    "print(highest_earning_country_percentage)"
   ]
  },
  {
   "cell_type": "code",
   "execution_count": 19,
   "id": "647b9374-4422-4155-8942-7942c4000742",
   "metadata": {},
   "outputs": [
    {
     "name": "stdout",
     "output_type": "stream",
     "text": [
      "Prof-specialty\n"
     ]
    }
   ],
   "source": [
    "   # Identify the most popular occupation for those who earn >50K in India.\n",
    "top_IN_occupation = df.loc[(df[\"native-country\"] == \"India\") & (df[\"salary\"] == \">50K\"), \"occupation\"].value_counts().idxmax()\n",
    "print(top_IN_occupation)"
   ]
  },
  {
   "cell_type": "code",
   "execution_count": null,
   "id": "e676bfd7-7c6e-4dad-8bba-a03036d87c13",
   "metadata": {},
   "outputs": [],
   "source": []
  },
  {
   "cell_type": "code",
   "execution_count": null,
   "id": "b9cd1642-b7cf-45a1-8103-b0a6e45afbcb",
   "metadata": {},
   "outputs": [],
   "source": []
  },
  {
   "cell_type": "code",
   "execution_count": null,
   "id": "2385f05d-2488-4c40-a3d0-1e1e5b92c6b5",
   "metadata": {},
   "outputs": [],
   "source": []
  },
  {
   "cell_type": "code",
   "execution_count": null,
   "id": "e8944fd3-cc6b-4235-bf02-282e2fe047a3",
   "metadata": {},
   "outputs": [],
   "source": []
  },
  {
   "cell_type": "code",
   "execution_count": null,
   "id": "15bfd69b-794e-4e9c-ad30-f233ae93d4ed",
   "metadata": {},
   "outputs": [],
   "source": []
  },
  {
   "cell_type": "code",
   "execution_count": null,
   "id": "f0d2ac84-5cb0-4bd8-9f5a-7233648c827e",
   "metadata": {},
   "outputs": [],
   "source": []
  }
 ],
 "metadata": {
  "kernelspec": {
   "display_name": "Python 3 (ipykernel)",
   "language": "python",
   "name": "python3"
  },
  "language_info": {
   "codemirror_mode": {
    "name": "ipython",
    "version": 3
   },
   "file_extension": ".py",
   "mimetype": "text/x-python",
   "name": "python",
   "nbconvert_exporter": "python",
   "pygments_lexer": "ipython3",
   "version": "3.9.12"
  }
 },
 "nbformat": 4,
 "nbformat_minor": 5
}
