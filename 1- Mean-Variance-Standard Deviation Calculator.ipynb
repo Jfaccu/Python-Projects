{
 "cells": [
  {
   "cell_type": "code",
   "execution_count": 13,
   "id": "d8e9b373-506e-48cd-9b20-34baeb6cfabb",
   "metadata": {},
   "outputs": [],
   "source": [
    "import numpy as np\n",
    "def calculate(list):\n",
    "    if len(list) != 9:\n",
    "        raise ValueError(\"List must contain nine numbers.\")\n",
    "    rows=[]\n",
    "    for i in range(0,9,3):\n",
    "        rows.append(list[i:i+3])\n",
    "    matrix=np.array([rows[0],rows[1],rows[2]])\n",
    "        \n",
    "    calculations={\n",
    "    'mean':               [np.mean(matrix, axis=0).       tolist(), np.mean(matrix, axis=1).         tolist(), np.mean(matrix).tolist()],\n",
    "    'variance':           [np.var(matrix, axis=0).        tolist(), np.var(matrix, axis=1).          tolist(), np.var(matrix).tolist()],\n",
    "    'standard deviation': [np.std(matrix, axis=0).        tolist(), np.std(matrix, axis=1).          tolist(), np.std(matrix).tolist()],\n",
    "    'max':                [np.max(matrix, axis=0).        tolist(), np.max(matrix, axis=1).          tolist(), np.max(matrix).tolist()],\n",
    "    'min':                [np.min(matrix, axis=0).        tolist(), np.min(matrix, axis=1).          tolist(), np.min(matrix).tolist()],\n",
    "    'sum':                [np.sum(matrix, axis=0).        tolist(), np.sum(matrix, axis=1).          tolist(), np.sum(matrix).tolist()]\n",
    "    }\n",
    "    return calculations"
   ]
  },
  {
   "cell_type": "code",
   "execution_count": 14,
   "id": "d9eefae3-a6c9-44da-8d65-1edb08ec9e03",
   "metadata": {},
   "outputs": [
    {
     "data": {
      "text/plain": [
       "{'mean': [[6.0, 4.333333333333333, 5.0],\n",
       "  [5.0, 6.333333333333333, 4.0],\n",
       "  5.111111111111111],\n",
       " 'variance': [[8.666666666666666, 11.555555555555557, 10.666666666666666],\n",
       "  [10.666666666666666, 6.222222222222221, 12.666666666666666],\n",
       "  10.76543209876543],\n",
       " 'standard deviation': [[2.943920288775949,\n",
       "   3.39934634239519,\n",
       "   3.265986323710904],\n",
       "  [3.265986323710904, 2.494438257849294, 3.559026084010437],\n",
       "  3.2810717911629776],\n",
       " 'max': [[9, 9, 9], [9, 9, 9], 9],\n",
       " 'min': [[2, 1, 1], [1, 3, 1], 1],\n",
       " 'sum': [[18, 13, 15], [15, 19, 12], 46]}"
      ]
     },
     "execution_count": 14,
     "metadata": {},
     "output_type": "execute_result"
    }
   ],
   "source": [
    "lista=[9,1,5,7,3,9,2,9,1]\n",
    "calculate(lista)"
   ]
  },
  {
   "cell_type": "code",
   "execution_count": null,
   "id": "75fed85f-c34a-4be0-95bf-1154f07a22fa",
   "metadata": {},
   "outputs": [],
   "source": []
  }
 ],
 "metadata": {
  "kernelspec": {
   "display_name": "Python 3 (ipykernel)",
   "language": "python",
   "name": "python3"
  },
  "language_info": {
   "codemirror_mode": {
    "name": "ipython",
    "version": 3
   },
   "file_extension": ".py",
   "mimetype": "text/x-python",
   "name": "python",
   "nbconvert_exporter": "python",
   "pygments_lexer": "ipython3",
   "version": "3.9.12"
  }
 },
 "nbformat": 4,
 "nbformat_minor": 5
}
